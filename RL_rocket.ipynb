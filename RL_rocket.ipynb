{
 "cells": [
  {
   "cell_type": "markdown",
   "metadata": {},
   "source": [
    "# This file contains the necessary imports for Windows, MacOS, and Linux."
   ]
  },
  {
   "cell_type": "code",
   "execution_count": 62,
   "metadata": {
    "collapsed": true
   },
   "outputs": [],
   "source": [
    "! bash imports.sh"
   ]
  },
  {
   "cell_type": "markdown",
   "metadata": {},
   "source": [
    "# Imports from Gym, PyTorch, NumPy, and Matplotlib"
   ]
  },
  {
   "cell_type": "code",
   "execution_count": 6,
   "metadata": {
    "collapsed": true
   },
   "outputs": [],
   "source": [
    "import gym\n",
    "from collections import namedtuple\n",
    "import numpy as np\n",
    "import matplotlib.pyplot as plt\n",
    "\n",
    "import torch\n",
    "import torch.nn as nn\n",
    "import torch.optim as optim\n",
    "import torch.nn.functional as F"
   ]
  },
  {
   "cell_type": "markdown",
   "metadata": {},
   "source": [
    "# Create Batch of Episodes with max time of 5000 frames"
   ]
  },
  {
   "cell_type": "code",
   "execution_count": 10,
   "metadata": {
    "collapsed": true
   },
   "outputs": [],
   "source": [
    "def generate_batch(env,batch_size,time=5000):\n",
    "    \n",
    "    #activation layer\n",
    "    activation = nn.Softmax(dim=1)\n",
    "\n",
    "    #initial lists\n",
    "    batch_actions =[]\n",
    "    batch_states = []\n",
    "    batch_rewards = []\n",
    "\n",
    "    #iterate through batches\n",
    "    for b in range(batch_size):\n",
    "\n",
    "        #lists for each episode and reward to zero\n",
    "        states = []\n",
    "        actions = []\n",
    "        total_reward = 0\n",
    "\n",
    "        #create new environment\n",
    "        state = env.reset()\n",
    "\n",
    "        #iterate through episode\n",
    "        for t in range(time):\n",
    "            #create FloatTensor from state\n",
    "            state_t = torch.FloatTensor([state])\n",
    "            #forward pass through network\n",
    "            act_prob_t = activation(net(state_t))\n",
    "            #sample action from distribution\n",
    "            act_prob = act_prob_t.data.numpy()[0]\n",
    "            #choose an action\n",
    "            action = np.random.choice(len(act_prob), p=act_prob)\n",
    "            #take action\n",
    "            new_state, r, done, info = env.step(action)\n",
    "            #record sessions and rewards\n",
    "            states.append(state)\n",
    "            actions.append(action)\n",
    "            total_reward += r\n",
    "            #update state\n",
    "            state = new_state\n",
    "            #break if done\n",
    "            if done:\n",
    "                batch_actions.append(actions)\n",
    "                batch_states.append(states)\n",
    "                batch_rewards.append(total_reward)\n",
    "                break\n",
    "    #return lists\n",
    "    return batch_states, batch_actions, batch_rewards"
   ]
  },
  {
   "cell_type": "markdown",
   "metadata": {},
   "source": [
    "# Filter Elite Episodes with rewards above 90th percentile"
   ]
  },
  {
   "cell_type": "code",
   "execution_count": 11,
   "metadata": {
    "collapsed": true
   },
   "outputs": [],
   "source": [
    "#filter episodes for best rewards\n",
    "def filter_batch(batch_states,batch_actions,batch_rewards,percentile=90):\n",
    "    \n",
    "    #define the threshold for the percentile of rewards\n",
    "    batch_reward_threshold = np.percentile(batch_rewards, percentile)\n",
    "    \n",
    "    #create lists for filtered episodes\n",
    "    elite_states = []\n",
    "    elite_actions = []\n",
    "\n",
    "    #iterate through the episodes and filter for best rewards\n",
    "    for i in range(len(batch_rewards)):\n",
    "        if batch_rewards[i] > batch_reward_threshold:\n",
    "            for j in range(len(batch_states[i])):\n",
    "                elite_states.append(batch_states[i][j])\n",
    "                elite_actions.append(batch_actions[i][j])\n",
    "    \n",
    "    #return filtered episodes\n",
    "    return elite_states,elite_actions\n",
    "    "
   ]
  },
  {
   "cell_type": "markdown",
   "metadata": {},
   "source": [
    "# Neural Network with 2 Fully Connected Layers, and one Activation Layer"
   ]
  },
  {
   "cell_type": "code",
   "execution_count": 14,
   "metadata": {},
   "outputs": [],
   "source": [
    "#common use class for PyTorch neural network\n",
    "class Net(nn.Module):\n",
    "    #definition of network\n",
    "    def __init__(self, input, batch_size, number_actions):\n",
    "        #super class constructor\n",
    "        super(Net, self).__init__()\n",
    "        #define layers\n",
    "        self.fc1 = nn.Linear(input, batch_size)\n",
    "        self.fc2 = nn.Linear(batch_size, number_actions)\n",
    "\n",
    "    #define hyperparameters \n",
    "    def forward(self, tensor):\n",
    "        #forward pass through network\n",
    "        tensor = F.relu(self.fc1(tensor))\n",
    "        return self.fc2(tensor)\n"
   ]
  },
  {
   "cell_type": "markdown",
   "metadata": {},
   "source": [
    "# Training over 2000 episodes"
   ]
  },
  {
   "cell_type": "code",
   "execution_count": 23,
   "metadata": {},
   "outputs": [
    {
     "name": "stdout",
     "output_type": "stream",
     "text": [
      "Episode 0: Mean Reward: -176.3665836191501, Threshold: -85.63596279614494, Loss: 1.3777966499328613\n",
      "Episode 1: Mean Reward: -214.62952257051364, Threshold: -100.91439312622049, Loss: 1.3412997722625732\n",
      "Episode 2: Mean Reward: -204.79476339682267, Threshold: -98.14909918659536, Loss: 1.3331527709960938\n",
      "Episode 3: Mean Reward: -154.58522988429652, Threshold: -98.61414332083937, Loss: 1.2999368906021118\n"
     ]
    },
    {
     "ename": "KeyboardInterrupt",
     "evalue": "",
     "output_type": "error",
     "traceback": [
      "\u001b[0;31m---------------------------------------------------------------------------\u001b[0m",
      "\u001b[0;31mKeyboardInterrupt\u001b[0m                         Traceback (most recent call last)",
      "\u001b[1;32m/home/bryce/Desktop/Python/Final Project/Landing-A-Rocket-With-Simple-Reinforcement-Learning/RL_rocket.ipynb Cell 12'\u001b[0m in \u001b[0;36m<cell line: 42>\u001b[0;34m()\u001b[0m\n\u001b[1;32m     <a href='vscode-notebook-cell:/home/bryce/Desktop/Python/Final%20Project/Landing-A-Rocket-With-Simple-Reinforcement-Learning/RL_rocket.ipynb#ch0000010?line=40'>41</a>\u001b[0m \u001b[39m#iterate through episodes\u001b[39;00m\n\u001b[1;32m     <a href='vscode-notebook-cell:/home/bryce/Desktop/Python/Final%20Project/Landing-A-Rocket-With-Simple-Reinforcement-Learning/RL_rocket.ipynb#ch0000010?line=41'>42</a>\u001b[0m \u001b[39mfor\u001b[39;00m i \u001b[39min\u001b[39;00m \u001b[39mrange\u001b[39m(episode_size):\n\u001b[1;32m     <a href='vscode-notebook-cell:/home/bryce/Desktop/Python/Final%20Project/Landing-A-Rocket-With-Simple-Reinforcement-Learning/RL_rocket.ipynb#ch0000010?line=42'>43</a>\u001b[0m \t\u001b[39m#generate new batch\u001b[39;00m\n\u001b[0;32m---> <a href='vscode-notebook-cell:/home/bryce/Desktop/Python/Final%20Project/Landing-A-Rocket-With-Simple-Reinforcement-Learning/RL_rocket.ipynb#ch0000010?line=43'>44</a>\u001b[0m \tbatch_states,batch_actions,batch_rewards \u001b[39m=\u001b[39m generate_batch(env, batch_size, time\u001b[39m=\u001b[39;49m\u001b[39m5000\u001b[39;49m)\n\u001b[1;32m     <a href='vscode-notebook-cell:/home/bryce/Desktop/Python/Final%20Project/Landing-A-Rocket-With-Simple-Reinforcement-Learning/RL_rocket.ipynb#ch0000010?line=45'>46</a>\u001b[0m \t\u001b[39m#filter for best rewards\u001b[39;00m\n\u001b[1;32m     <a href='vscode-notebook-cell:/home/bryce/Desktop/Python/Final%20Project/Landing-A-Rocket-With-Simple-Reinforcement-Learning/RL_rocket.ipynb#ch0000010?line=46'>47</a>\u001b[0m \telite_states, elite_actions \u001b[39m=\u001b[39m filter_batch(batch_states,batch_actions,batch_rewards,percentile)\n",
      "\u001b[1;32m/home/bryce/Desktop/Python/Final Project/Landing-A-Rocket-With-Simple-Reinforcement-Learning/RL_rocket.ipynb Cell 6'\u001b[0m in \u001b[0;36mgenerate_batch\u001b[0;34m(env, batch_size, time)\u001b[0m\n\u001b[1;32m     <a href='vscode-notebook-cell:/home/bryce/Desktop/Python/Final%20Project/Landing-A-Rocket-With-Simple-Reinforcement-Learning/RL_rocket.ipynb#ch0000006?line=30'>31</a>\u001b[0m action \u001b[39m=\u001b[39m np\u001b[39m.\u001b[39mrandom\u001b[39m.\u001b[39mchoice(\u001b[39mlen\u001b[39m(act_prob), p\u001b[39m=\u001b[39mact_prob)\n\u001b[1;32m     <a href='vscode-notebook-cell:/home/bryce/Desktop/Python/Final%20Project/Landing-A-Rocket-With-Simple-Reinforcement-Learning/RL_rocket.ipynb#ch0000006?line=31'>32</a>\u001b[0m \u001b[39m#take action\u001b[39;00m\n\u001b[0;32m---> <a href='vscode-notebook-cell:/home/bryce/Desktop/Python/Final%20Project/Landing-A-Rocket-With-Simple-Reinforcement-Learning/RL_rocket.ipynb#ch0000006?line=32'>33</a>\u001b[0m new_state, r, done, info \u001b[39m=\u001b[39m env\u001b[39m.\u001b[39;49mstep(action)\n\u001b[1;32m     <a href='vscode-notebook-cell:/home/bryce/Desktop/Python/Final%20Project/Landing-A-Rocket-With-Simple-Reinforcement-Learning/RL_rocket.ipynb#ch0000006?line=33'>34</a>\u001b[0m \u001b[39m#record sessions and rewards\u001b[39;00m\n\u001b[1;32m     <a href='vscode-notebook-cell:/home/bryce/Desktop/Python/Final%20Project/Landing-A-Rocket-With-Simple-Reinforcement-Learning/RL_rocket.ipynb#ch0000006?line=34'>35</a>\u001b[0m states\u001b[39m.\u001b[39mappend(state)\n",
      "File \u001b[0;32m~/.local/lib/python3.10/site-packages/gym/wrappers/monitor.py:31\u001b[0m, in \u001b[0;36mMonitor.step\u001b[0;34m(self, action)\u001b[0m\n\u001b[1;32m     <a href='file:///home/bryce/.local/lib/python3.10/site-packages/gym/wrappers/monitor.py?line=28'>29</a>\u001b[0m \u001b[39mdef\u001b[39;00m \u001b[39mstep\u001b[39m(\u001b[39mself\u001b[39m, action):\n\u001b[1;32m     <a href='file:///home/bryce/.local/lib/python3.10/site-packages/gym/wrappers/monitor.py?line=29'>30</a>\u001b[0m     \u001b[39mself\u001b[39m\u001b[39m.\u001b[39m_before_step(action)\n\u001b[0;32m---> <a href='file:///home/bryce/.local/lib/python3.10/site-packages/gym/wrappers/monitor.py?line=30'>31</a>\u001b[0m     observation, reward, done, info \u001b[39m=\u001b[39m \u001b[39mself\u001b[39;49m\u001b[39m.\u001b[39;49menv\u001b[39m.\u001b[39;49mstep(action)\n\u001b[1;32m     <a href='file:///home/bryce/.local/lib/python3.10/site-packages/gym/wrappers/monitor.py?line=31'>32</a>\u001b[0m     done \u001b[39m=\u001b[39m \u001b[39mself\u001b[39m\u001b[39m.\u001b[39m_after_step(observation, reward, done, info)\n\u001b[1;32m     <a href='file:///home/bryce/.local/lib/python3.10/site-packages/gym/wrappers/monitor.py?line=33'>34</a>\u001b[0m     \u001b[39mreturn\u001b[39;00m observation, reward, done, info\n",
      "File \u001b[0;32m~/.local/lib/python3.10/site-packages/gym/wrappers/time_limit.py:15\u001b[0m, in \u001b[0;36mTimeLimit.step\u001b[0;34m(self, action)\u001b[0m\n\u001b[1;32m     <a href='file:///home/bryce/.local/lib/python3.10/site-packages/gym/wrappers/time_limit.py?line=12'>13</a>\u001b[0m \u001b[39mdef\u001b[39;00m \u001b[39mstep\u001b[39m(\u001b[39mself\u001b[39m, action):\n\u001b[1;32m     <a href='file:///home/bryce/.local/lib/python3.10/site-packages/gym/wrappers/time_limit.py?line=13'>14</a>\u001b[0m     \u001b[39massert\u001b[39;00m \u001b[39mself\u001b[39m\u001b[39m.\u001b[39m_elapsed_steps \u001b[39mis\u001b[39;00m \u001b[39mnot\u001b[39;00m \u001b[39mNone\u001b[39;00m, \u001b[39m\"\u001b[39m\u001b[39mCannot call env.step() before calling reset()\u001b[39m\u001b[39m\"\u001b[39m\n\u001b[0;32m---> <a href='file:///home/bryce/.local/lib/python3.10/site-packages/gym/wrappers/time_limit.py?line=14'>15</a>\u001b[0m     observation, reward, done, info \u001b[39m=\u001b[39m \u001b[39mself\u001b[39;49m\u001b[39m.\u001b[39;49menv\u001b[39m.\u001b[39;49mstep(action)\n\u001b[1;32m     <a href='file:///home/bryce/.local/lib/python3.10/site-packages/gym/wrappers/time_limit.py?line=15'>16</a>\u001b[0m     \u001b[39mself\u001b[39m\u001b[39m.\u001b[39m_elapsed_steps \u001b[39m+\u001b[39m\u001b[39m=\u001b[39m \u001b[39m1\u001b[39m\n\u001b[1;32m     <a href='file:///home/bryce/.local/lib/python3.10/site-packages/gym/wrappers/time_limit.py?line=16'>17</a>\u001b[0m     \u001b[39mif\u001b[39;00m \u001b[39mself\u001b[39m\u001b[39m.\u001b[39m_elapsed_steps \u001b[39m>\u001b[39m\u001b[39m=\u001b[39m \u001b[39mself\u001b[39m\u001b[39m.\u001b[39m_max_episode_steps:\n",
      "File \u001b[0;32m~/.local/lib/python3.10/site-packages/gym/envs/box2d/lunar_lander.py:281\u001b[0m, in \u001b[0;36mLunarLander.step\u001b[0;34m(self, action)\u001b[0m\n\u001b[1;32m    <a href='file:///home/bryce/.local/lib/python3.10/site-packages/gym/envs/box2d/lunar_lander.py?line=277'>278</a>\u001b[0m     p\u001b[39m.\u001b[39mApplyLinearImpulse(           ( ox\u001b[39m*\u001b[39mSIDE_ENGINE_POWER\u001b[39m*\u001b[39ms_power,  oy\u001b[39m*\u001b[39mSIDE_ENGINE_POWER\u001b[39m*\u001b[39ms_power), impulse_pos, \u001b[39mTrue\u001b[39;00m)\n\u001b[1;32m    <a href='file:///home/bryce/.local/lib/python3.10/site-packages/gym/envs/box2d/lunar_lander.py?line=278'>279</a>\u001b[0m     \u001b[39mself\u001b[39m\u001b[39m.\u001b[39mlander\u001b[39m.\u001b[39mApplyLinearImpulse( (\u001b[39m-\u001b[39mox\u001b[39m*\u001b[39mSIDE_ENGINE_POWER\u001b[39m*\u001b[39ms_power, \u001b[39m-\u001b[39moy\u001b[39m*\u001b[39mSIDE_ENGINE_POWER\u001b[39m*\u001b[39ms_power), impulse_pos, \u001b[39mTrue\u001b[39;00m)\n\u001b[0;32m--> <a href='file:///home/bryce/.local/lib/python3.10/site-packages/gym/envs/box2d/lunar_lander.py?line=280'>281</a>\u001b[0m \u001b[39mself\u001b[39;49m\u001b[39m.\u001b[39;49mworld\u001b[39m.\u001b[39;49mStep(\u001b[39m1.0\u001b[39;49m\u001b[39m/\u001b[39;49mFPS, \u001b[39m6\u001b[39;49m\u001b[39m*\u001b[39;49m\u001b[39m30\u001b[39;49m, \u001b[39m2\u001b[39;49m\u001b[39m*\u001b[39;49m\u001b[39m30\u001b[39;49m)\n\u001b[1;32m    <a href='file:///home/bryce/.local/lib/python3.10/site-packages/gym/envs/box2d/lunar_lander.py?line=282'>283</a>\u001b[0m pos \u001b[39m=\u001b[39m \u001b[39mself\u001b[39m\u001b[39m.\u001b[39mlander\u001b[39m.\u001b[39mposition\n\u001b[1;32m    <a href='file:///home/bryce/.local/lib/python3.10/site-packages/gym/envs/box2d/lunar_lander.py?line=283'>284</a>\u001b[0m vel \u001b[39m=\u001b[39m \u001b[39mself\u001b[39m\u001b[39m.\u001b[39mlander\u001b[39m.\u001b[39mlinearVelocity\n",
      "\u001b[0;31mKeyboardInterrupt\u001b[0m: "
     ]
    }
   ],
   "source": [
    "#necessary import\n",
    "import imp\n",
    "#necessary for video output\n",
    "import gym.wrappers\n",
    "\n",
    "# batch size\n",
    "batch_size = 200\n",
    "# episode size\n",
    "episode_size = 2000\n",
    "# percentile of rewards\n",
    "percentile = 90\n",
    "# learning rate\n",
    "learning_rate = 0.01\n",
    "\n",
    "#create environment\n",
    "env = gym.make(\"LunarLander-v2\")\n",
    "\n",
    "#or use this environment\n",
    "#env = gym.make(\"LunarLanderContinuous-v2\")\n",
    "\n",
    "#number of states\n",
    "number_states = env.observation_space.shape[0]\n",
    "#number of actions\n",
    "number_actions = env.action_space.n\n",
    "\n",
    "\n",
    "#neural network\n",
    "net = Net(number_states, batch_size, number_actions)\n",
    "\n",
    "#Cross Entropy Loss function\n",
    "loss = nn.CrossEntropyLoss()\n",
    "\n",
    "#Adams Optimizer function\n",
    "optimizer = optim.Adam(params=net.parameters(), lr=learning_rate)\n",
    "\n",
    "loss_result = []\n",
    "mean_reward_result = []\n",
    "reward_threshold_result = []\n",
    "index = []\n",
    "\n",
    "#iterate through episodes\n",
    "for i in range(episode_size):\n",
    "\t#generate new batch\n",
    "\tbatch_states,batch_actions,batch_rewards = generate_batch(env, batch_size, time=5000)\n",
    "\n",
    "\t#filter for best rewards\n",
    "\telite_states, elite_actions = filter_batch(batch_states,batch_actions,batch_rewards,percentile)\n",
    "\t\n",
    "\t#optimizer zero gradients function to clear gradients\n",
    "\toptimizer.zero_grad()\n",
    "\t#create tensor from elite states\n",
    "\ttensor_states = torch.FloatTensor(elite_states)\n",
    "\t#create tensor from elite actions\n",
    "\ttensor_actions = torch.LongTensor(elite_actions)\n",
    "\t#forward pass through network\n",
    "\taction_scores_tensor = net(tensor_states)\n",
    "\t#loss function\n",
    "\tloss_tensor = loss(action_scores_tensor, tensor_actions)\n",
    "\t#backward pass through network\n",
    "\tloss_tensor.backward()\n",
    "\t#update network\n",
    "\toptimizer.step()\n",
    "\t\n",
    "\t#show results\n",
    "\tmean_reward, reward_threshold = np.mean(batch_rewards), np.percentile(batch_rewards, percentile)\n",
    "\tprint(\"Episode {}: Mean Reward: {}, Threshold: {}, Loss: {}\".format(i, mean_reward, reward_threshold, loss_tensor.item()))\n",
    "\tloss_result.append(loss_tensor.item())\n",
    "\tmean_reward_result.append(mean_reward)\n",
    "\treward_threshold_result.append(reward_threshold)\n",
    "\tindex.append(i)\n",
    "\n",
    "\t#video output into forced directory\n",
    "\tenv = gym.wrappers.Monitor(gym.make(\"LunarLander-v2\"), directory=\"videos\", force=True)\n",
    "\tgenerate_batch(env, 1, time=5000)\n",
    "\tenv.close()"
   ]
  },
  {
   "cell_type": "markdown",
   "metadata": {},
   "source": [
    "# This was needed because I forgot to append my results to lists in my 2000 episode. Thus, I used a text output and read it in. No longer necessary"
   ]
  },
  {
   "cell_type": "code",
   "execution_count": 28,
   "metadata": {},
   "outputs": [],
   "source": [
    "# import pandas as pd\n",
    "\n",
    "# df = pd.read_csv(\"output.csv\")\n",
    "# loss = df['loss']\n",
    "# reward = df['mean']\n",
    "# threshold = df['thresh']\n",
    "# axis = np.arange(0,len(loss),1)"
   ]
  },
  {
   "cell_type": "markdown",
   "metadata": {},
   "source": [
    "# Graphs"
   ]
  },
  {
   "cell_type": "code",
   "execution_count": 24,
   "metadata": {},
   "outputs": [
    {
     "data": {
      "image/png": "[encoded data removed]",
      "text/plain": [
       "<Figure size 432x288 with 1 Axes>"
      ]
     },
     "metadata": {
      "needs_background": "light"
     },
     "output_type": "display_data"
    }
   ],
   "source": [
    "#plot loss\n",
    "import matplotlib.pyplot as plt\n",
    "plt.plot(index,loss_result, '-', label='loss', color='red')\n",
    "plt.xlabel(\"Episodes\")\n",
    "plt.ylabel(\"Loss\")\n",
    "plt.legend()\n",
    "plt.savefig(\"loss.png\")\n",
    "plt.show()"
   ]
  },
  {
   "cell_type": "code",
   "execution_count": 25,
   "metadata": {},
   "outputs": [
    {
     "data": {
      "image/png": "[encoded data removed]",
      "text/plain": [
       "<Figure size 432x288 with 1 Axes>"
      ]
     },
     "metadata": {
      "needs_background": "light"
     },
     "output_type": "display_data"
    }
   ],
   "source": [
    "#plot reward and point at which agent is successful\n",
    "plt.plot(index,mean_reward_result, '-', label='reward', color='blue')\n",
    "plt.xlabel(\"Episodes\")\n",
    "plt.ylabel(\"Mean Reward\")\n",
    "plt.legend()\n",
    "plt.savefig(\"reward.png\")\n",
    "plt.show()\n"
   ]
  },
  {
   "cell_type": "code",
   "execution_count": 26,
   "metadata": {},
   "outputs": [
    {
     "data": {
      "image/png": "[encoded data removed]",
      "text/plain": [
       "<Figure size 432x288 with 1 Axes>"
      ]
     },
     "metadata": {
      "needs_background": "light"
     },
     "output_type": "display_data"
    }
   ],
   "source": [
    "#plot threshold\n",
    "plt.plot(index,reward_threshold_result, '-', label='threshold', color='green')\n",
    "plt.xlabel(\"Episodes\")\n",
    "plt.ylabel(\"Mean Threshold\")\n",
    "plt.legend()\n",
    "plt.savefig(\"threshold.png\")\n",
    "plt.show()"
   ]
  },
  {
   "cell_type": "markdown",
   "metadata": {
    "collapsed": true
   },
   "source": [
    "# Save our model"
   ]
  },
  {
   "cell_type": "code",
   "execution_count": 27,
   "metadata": {},
   "outputs": [],
   "source": [
    "# save the model\n",
    "torch.save(net, 'model_best.pth.tar')"
   ]
  }
 ],
 "metadata": {
  "interpreter": {
   "hash": "31f2aee4e71d21fbe5cf8b01ff0e069b9275f58929596ceb00d14d90e3e16cd6"
  },
  "kernelspec": {
   "display_name": "Python 3.10.4 64-bit",
   "language": "python",
   "name": "python3"
  },
  "language_info": {
   "codemirror_mode": {
    "name": "ipython",
    "version": 3
   },
   "file_extension": ".py",
   "mimetype": "text/x-python",
   "name": "python",
   "nbconvert_exporter": "python",
   "pygments_lexer": "ipython3",
   "version": "3.10.4"
  }
 },
 "nbformat": 4,
 "nbformat_minor": 2
}
